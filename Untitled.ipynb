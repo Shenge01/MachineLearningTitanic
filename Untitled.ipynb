{
 "cells": [
  {
   "cell_type": "code",
   "execution_count": 1,
   "id": "d5142b9b",
   "metadata": {},
   "outputs": [],
   "source": [
    "import random"
   ]
  },
  {
   "cell_type": "code",
   "execution_count": 2,
   "id": "c4ca7abd",
   "metadata": {},
   "outputs": [],
   "source": [
    "X = 4  # bombs planted needs to y\n",
    "Y = 4  # size of grid"
   ]
  },
  {
   "cell_type": "code",
   "execution_count": 3,
   "id": "094baab7",
   "metadata": {},
   "outputs": [],
   "source": [
    "#  Aesthetics\n",
    "space = \"X\"  # Numbering spacing infront"
   ]
  },
  {
   "cell_type": "code",
   "execution_count": 8,
   "id": "4c14704c",
   "metadata": {},
   "outputs": [
    {
     "name": "stdout",
     "output_type": "stream",
     "text": [
      "X    1    2    3    4    1    2    3    4    1    2    3    4    1    2    3    4    1    2    3    4\n",
      "\n",
      "   MINESWEEPER\n",
      "\n",
      " ________\n"
     ]
    }
   ],
   "source": [
    "for i in range(Y):  #\n",
    "    space = space + \"    \" + str(i + 1)  # numbering start at 1\n",
    "print(space)\n",
    "print(\"\\n   MINESWEEPER\\n\")\n",
    "print(\" ________\")\n"
   ]
  },
  {
   "cell_type": "code",
   "execution_count": 135,
   "id": "d31a31b9",
   "metadata": {},
   "outputs": [],
   "source": [
    "def mine():\n",
    "    \n",
    "    # creating a grid\n",
    "    grid = [[0 for row in range(Y)] for column in range(Y)]\n",
    "    \n",
    "    X_planted = -5\n",
    "    \n",
    "    while X_planted < X:\n",
    "\n",
    "        row = random.randint(0, X - 1)  # this plants a bomb on a random row\n",
    "        col = random.randint(0, X - 1)  # places a bomb in a column\n",
    "\n",
    "        #print()\n",
    "        # the * represents a bomb, and if there is already a bomb on the row or columns\n",
    "        # the code skips and continues down the row/column\n",
    "        if grid[row][col] == '*':\n",
    "            continue\n",
    "            \n",
    "        grid[row][col] = '*'\n",
    "        X_planted += 1\n",
    " \n",
    "    new_list = []\n",
    "    for row in grid:\n",
    "        length = len([x for x in row if x == '*'])\n",
    "        new_list.append([length if x == 0 else '*' for x in row])\n",
    "    print(new_list)\n",
    "    for row in new_list:\n",
    "        print(\" | \".join(str(cell) for cell in row) + \" |\")\n",
    "    \n",
    "   \n",
    "      \n",
    "    \n",
    "   "
   ]
  },
  {
   "cell_type": "code",
   "execution_count": 136,
   "id": "2e9ad250",
   "metadata": {
    "scrolled": true
   },
   "outputs": [
    {
     "name": "stdout",
     "output_type": "stream",
     "text": [
      "[[1, 1, 1, '*'], ['*', '*', '*', 3], ['*', '*', '*', '*'], [1, '*', 1, 1]]\n",
      "1 | 1 | 1 | * |\n",
      "* | * | * | 3 |\n",
      "* | * | * | * |\n",
      "1 | * | 1 | 1 |\n"
     ]
    }
   ],
   "source": [
    "mine()"
   ]
  },
  {
   "cell_type": "code",
   "execution_count": 72,
   "id": "11bf5ce5",
   "metadata": {},
   "outputs": [],
   "source": [
    "lists = [['*', 0, '*', 0], ['*', '*', '*', 0], ['*', 0, 0, '*'], ['*', 0, '*', 0]]"
   ]
  },
  {
   "cell_type": "code",
   "execution_count": 82,
   "id": "915f85b2",
   "metadata": {},
   "outputs": [
    {
     "name": "stdout",
     "output_type": "stream",
     "text": [
      "ORIGINAL ['*', 0, '*', 0]\n",
      "ORIGINAL ['*', '*', '*', 0]\n",
      "ORIGINAL ['*', 0, 0, '*']\n",
      "ORIGINAL ['*', 0, '*', 0]\n",
      "* | * | * | * |\n",
      "1 | * | 1 | 1 |\n",
      "* | * | 3 | * |\n",
      "1 | 1 | * | 1 |\n"
     ]
    }
   ],
   "source": [
    "new_list_1 = []\n",
    "new_list_2 = []\n",
    "new_list_3 = []\n",
    "new_list_4 = []\n",
    "new_list = []\n",
    "\n",
    "for i in range(4):\n",
    "    print(f\"ORIGINAL {lists[i]}\")\n",
    "    new_list_1.append(lists[i][0])\n",
    "    new_list_2.append(lists[i][1])\n",
    "    new_list_3.append(lists[i][2])\n",
    "    new_list_4.append(lists[i][3])\n",
    "                       \n",
    "new_list = [new_list_1, new_list_2, new_list_3, new_list_4]\n",
    "\n",
    "new_column = []\n",
    "for row in new_list:\n",
    "    length = len([x for x in row if x == '*'])\n",
    "    new_column.append([length if x == 0 else '*' for x in row])\n",
    "    \n",
    "print(new_column)\n",
    "\n",
    "for row in new_column:\n",
    "        print(\" | \".join(str(cell) for cell in row) + \" |\")"
   ]
  },
  {
   "cell_type": "code",
   "execution_count": 127,
   "id": "70b640d3",
   "metadata": {},
   "outputs": [],
   "source": [
    "def mine():\n",
    "    \n",
    "    # creating a grid\n",
    "    grid = [[0 for row in range(Y)] for column in range(Y)]\n",
    "    \n",
    "    X_planted = -5\n",
    "    \n",
    "    while X_planted < X:\n",
    "\n",
    "        row = random.randint(0, X - 1)  # this plants a bomb on a random row\n",
    "        col = random.randint(0, X - 1)  # places a bomb in a column\n",
    "\n",
    "        #print()\n",
    "        # the * represents a bomb, and if there is already a bomb on the row or columns\n",
    "        # the code skips and continues down the row/column\n",
    "        if grid[row][col] == '*':\n",
    "            continue\n",
    "            \n",
    "        grid[row][col] = '*'\n",
    "        X_planted += 1\n",
    "        \n",
    "        # Transpose the lists\n",
    "        new_list_1 = []\n",
    "        new_list_2 = []\n",
    "        new_list_3 = []\n",
    "        new_list_4 = []\n",
    "        new_list = []\n",
    "\n",
    "        for i in grid:\n",
    "            new_list_1.append(i[0])\n",
    "            new_list_2.append(i[1])\n",
    "            new_list_3.append(i[2])\n",
    "            new_list_4.append(i[3])\n",
    "\n",
    "    new_list = [new_list_1, new_list_2, new_list_3, new_list_4]\n",
    "\n",
    "    new_column = []\n",
    "    for row in new_list:\n",
    "        length = len([x for x in row if x == '*'])\n",
    "        new_column.append([length if x == 0 else '*' for x in row])\n",
    "\n",
    "    print(new_column)\n",
    "\n",
    "    for row in new_column:\n",
    "            print(\" | \".join(str(cell) for cell in row) + \" |\")"
   ]
  },
  {
   "cell_type": "code",
   "execution_count": 128,
   "id": "f6c52973",
   "metadata": {},
   "outputs": [
    {
     "name": "stdout",
     "output_type": "stream",
     "text": [
      "[[1, '*', 1, 1], ['*', 3, '*', '*'], [3, '*', '*', '*'], ['*', 2, 2, '*']]\n",
      "[1, '*', 1, 1]\n",
      "1 | * | 1 | 1 |\n",
      "['*', 3, '*', '*']\n",
      "* | 3 | * | * |\n",
      "[3, '*', '*', '*']\n",
      "3 | * | * | * |\n",
      "['*', 2, 2, '*']\n",
      "* | 2 | 2 | * |\n"
     ]
    }
   ],
   "source": [
    "mine()"
   ]
  },
  {
   "cell_type": "code",
   "execution_count": 145,
   "id": "7b3c6de0",
   "metadata": {},
   "outputs": [],
   "source": [
    "def mine():\n",
    "    \n",
    "    # creating a grid\n",
    "    grid = [[0 for row in range(Y)] for column in range(Y)]\n",
    "    \n",
    "    X_planted = -5\n",
    "    \n",
    "    while X_planted < X:\n",
    "\n",
    "        row = random.randint(0, X - 1)  # this plants a bomb on a random row\n",
    "        col = random.randint(0, X - 1)  # places a bomb in a column\n",
    "\n",
    "        #print()\n",
    "        # the * represents a bomb, and if there is already a bomb on the row or columns\n",
    "        # the code skips and continues down the row/column\n",
    "        if grid[row][col] == '*':\n",
    "            continue\n",
    "            \n",
    "        grid[row][col] = '*'\n",
    "        X_planted += 1\n",
    " \n",
    "    new_list = []\n",
    "    for row in grid:\n",
    "        length = len([x for x in row if x == '*'])\n",
    "        new_list.append([length if x == 0 else '*' for x in row])\n",
    "        \n",
    "    # Transpose the lists/rows to columns\n",
    "    new_list_1 = []\n",
    "    new_list_2 = []\n",
    "    new_list_3 = []\n",
    "    new_list_4 = []\n",
    "    new_list_new = []\n",
    "\n",
    "    for i in new_list:\n",
    "        new_list_1.append(i[0])\n",
    "        new_list_2.append(i[1])\n",
    "        new_list_3.append(i[2])\n",
    "        new_list_4.append(i[3])\n",
    "\n",
    "    new_list_new = [new_list_1, new_list_2, new_list_3, new_list_4]\n",
    "    \n",
    "    # create minesweeper\n",
    "    for row in new_list_new:\n",
    "        print(\" | \".join(str(cell) for cell in row) + \" |\")"
   ]
  },
  {
   "cell_type": "code",
   "execution_count": 146,
   "id": "735b2f10",
   "metadata": {},
   "outputs": [
    {
     "name": "stdout",
     "output_type": "stream",
     "text": [
      "* | * | 2 | 1 |\n",
      "* | * | * | 1 |\n",
      "* | 3 | * | * |\n",
      "3 | * | 2 | 1 |\n"
     ]
    }
   ],
   "source": [
    "mine()"
   ]
  },
  {
   "cell_type": "code",
   "execution_count": null,
   "id": "6041222a",
   "metadata": {},
   "outputs": [],
   "source": []
  },
  {
   "cell_type": "code",
   "execution_count": 2,
   "id": "0b597635",
   "metadata": {},
   "outputs": [],
   "source": [
    "def fizzBuzz(n):\n",
    "    for i in range(1, n+1):\n",
    "        if i % 3==0 and i % 5==0:\n",
    "            print(\"FizzBuzz\")\n",
    "        elif i % 3==0:\n",
    "            print(\"Fizz\")\n",
    "        elif i % 5 == 0:\n",
    "            print(\"Buzz\")\n",
    "        else:\n",
    "            print(i)"
   ]
  },
  {
   "cell_type": "code",
   "execution_count": 3,
   "id": "38d6a31b",
   "metadata": {},
   "outputs": [
    {
     "name": "stdout",
     "output_type": "stream",
     "text": [
      "1\n",
      "2\n",
      "Fizz\n",
      "4\n",
      "Buzz\n",
      "Fizz\n",
      "7\n",
      "8\n",
      "Fizz\n"
     ]
    }
   ],
   "source": [
    "fizzBuzz(9)"
   ]
  },
  {
   "cell_type": "code",
   "execution_count": 5,
   "id": "b37f442e",
   "metadata": {},
   "outputs": [
    {
     "data": {
      "text/plain": [
       "False"
      ]
     },
     "execution_count": 5,
     "metadata": {},
     "output_type": "execute_result"
    }
   ],
   "source": [
    "3 % 2==0"
   ]
  },
  {
   "cell_type": "code",
   "execution_count": 77,
   "id": "190134e7",
   "metadata": {},
   "outputs": [],
   "source": [
    "def even(start, n):\n",
    "    integer_list = []\n",
    "    while len(integer_list) < n:\n",
    "        if len(integer_list)==0 and (start % 2==0):\n",
    "            integer_list.append(start)\n",
    "            \n",
    "        elif len(integer_list)==0 and ((start+1) % 2==0):\n",
    "            integer_list.append((start+1))\n",
    "            \n",
    "        elif (integer_list[-1] + 2) % 2==0:\n",
    "            integer_list.append(integer_list[-1] + 2)\n",
    "        \n",
    "    return sorted(integer_list)"
   ]
  },
  {
   "cell_type": "code",
   "execution_count": 78,
   "id": "0cef8382",
   "metadata": {},
   "outputs": [
    {
     "data": {
      "text/plain": [
       "[4, 6, 8, 10, 12, 14, 16]"
      ]
     },
     "execution_count": 78,
     "metadata": {},
     "output_type": "execute_result"
    }
   ],
   "source": [
    "even(3, 7)"
   ]
  },
  {
   "cell_type": "code",
   "execution_count": 56,
   "id": "b25562ea",
   "metadata": {},
   "outputs": [],
   "source": [
    "def fibonacci(n):\n",
    "    fn = [0, 1]\n",
    "    for i in range(2, n):\n",
    "        fn.append(fn[i-1] + fn[i-2])\n",
    "    return fn"
   ]
  },
  {
   "cell_type": "code",
   "execution_count": 68,
   "id": "01a1aaf2",
   "metadata": {},
   "outputs": [
    {
     "data": {
      "text/plain": [
       "[0, 1, 1, 2]"
      ]
     },
     "execution_count": 68,
     "metadata": {},
     "output_type": "execute_result"
    }
   ],
   "source": [
    "fibonacci(4)"
   ]
  },
  {
   "cell_type": "code",
   "execution_count": 58,
   "id": "6276339e",
   "metadata": {},
   "outputs": [],
   "source": [
    "ll = fibonacci(10)"
   ]
  },
  {
   "cell_type": "code",
   "execution_count": 61,
   "id": "ac34624b",
   "metadata": {},
   "outputs": [
    {
     "data": {
      "text/plain": [
       "0"
      ]
     },
     "execution_count": 61,
     "metadata": {},
     "output_type": "execute_result"
    }
   ],
   "source": [
    "(ll[-1] + 2) % 2"
   ]
  },
  {
   "cell_type": "code",
   "execution_count": 71,
   "id": "689878af",
   "metadata": {},
   "outputs": [
    {
     "data": {
      "text/plain": [
       "['nkazi', 'buthe,', 'lesi']"
      ]
     },
     "execution_count": 71,
     "metadata": {},
     "output_type": "execute_result"
    }
   ],
   "source": [
    "\"nkazi buthe, lesi\".split(\" \")"
   ]
  },
  {
   "cell_type": "code",
   "execution_count": 72,
   "id": "200d9979",
   "metadata": {},
   "outputs": [],
   "source": [
    "def howMany(sentence):\n",
    "    lists = str(sentence).split(\" \")\n",
    "    \n",
    "    return len(lists)"
   ]
  },
  {
   "cell_type": "code",
   "execution_count": 79,
   "id": "d032004f",
   "metadata": {},
   "outputs": [
    {
     "data": {
      "text/plain": [
       "3"
      ]
     },
     "execution_count": 79,
     "metadata": {},
     "output_type": "execute_result"
    }
   ],
   "source": [
    "howMany(\"nkazi buthe, lesi\")"
   ]
  },
  {
   "cell_type": "code",
   "execution_count": null,
   "id": "a11a2d0d",
   "metadata": {},
   "outputs": [],
   "source": []
  },
  {
   "cell_type": "code",
   "execution_count": null,
   "id": "a63eff1b",
   "metadata": {},
   "outputs": [],
   "source": []
  },
  {
   "cell_type": "code",
   "execution_count": 80,
   "id": "5462f248",
   "metadata": {},
   "outputs": [],
   "source": [
    "lsls = []"
   ]
  },
  {
   "cell_type": "code",
   "execution_count": 82,
   "id": "0c2e76d1",
   "metadata": {},
   "outputs": [],
   "source": [
    "lsls.append([23, 34])"
   ]
  },
  {
   "cell_type": "code",
   "execution_count": 83,
   "id": "6d5f57bf",
   "metadata": {},
   "outputs": [
    {
     "data": {
      "text/plain": [
       "[[2, 3], [23, 34]]"
      ]
     },
     "execution_count": 83,
     "metadata": {},
     "output_type": "execute_result"
    }
   ],
   "source": [
    "lsls"
   ]
  },
  {
   "cell_type": "code",
   "execution_count": 84,
   "id": "2c88f450",
   "metadata": {},
   "outputs": [
    {
     "data": {
      "text/plain": [
       "True"
      ]
     },
     "execution_count": 84,
     "metadata": {},
     "output_type": "execute_result"
    }
   ],
   "source": [
    "[23, 34] in lsls"
   ]
  }
 ],
 "metadata": {
  "kernelspec": {
   "display_name": "Python 3",
   "language": "python",
   "name": "python3"
  },
  "language_info": {
   "codemirror_mode": {
    "name": "ipython",
    "version": 3
   },
   "file_extension": ".py",
   "mimetype": "text/x-python",
   "name": "python",
   "nbconvert_exporter": "python",
   "pygments_lexer": "ipython3",
   "version": "3.9.5"
  }
 },
 "nbformat": 4,
 "nbformat_minor": 5
}
